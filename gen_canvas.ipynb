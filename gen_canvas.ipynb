{
  "nbformat": 4,
  "nbformat_minor": 0,
  "metadata": {
    "colab": {
      "name": "gen_canvas",
      "version": "0.3.2",
      "provenance": [],
      "collapsed_sections": [],
      "include_colab_link": true
    },
    "kernelspec": {
      "name": "python3",
      "display_name": "Python 3"
    }
  },
  "cells": [
    {
      "cell_type": "markdown",
      "metadata": {
        "id": "view-in-github",
        "colab_type": "text"
      },
      "source": [
        "<a href=\"https://colab.research.google.com/github/chclau/MIF_Gen/blob/master/gen_canvas.ipynb\" target=\"_parent\"><img src=\"https://colab.research.google.com/assets/colab-badge.svg\" alt=\"Open In Colab\"/></a>"
      ]
    },
    {
      "cell_type": "code",
      "metadata": {
        "id": "DmF80RHzt6u6",
        "colab_type": "code",
        "colab": {}
      },
      "source": [
        "# Initialization\n",
        "import numpy as np\n",
        "import matplotlib.pyplot as plt"
      ],
      "execution_count": 0,
      "outputs": []
    },
    {
      "cell_type": "code",
      "metadata": {
        "id": "TWwT12Bgulk9",
        "colab_type": "code",
        "colab": {}
      },
      "source": [
        "# Init canvas\n",
        "num_img  = 5000;\n",
        "num_tst  = np.int16(num_img/10);\n",
        "img_cols = 180;\n",
        "img_rows = 100;\n",
        "tot_img  = num_img+num_tst;\n",
        "canvas  = np.zeros((tot_img, img_rows, img_cols));\n",
        "canvas_lbl = np.zeros((tot_img));\n",
        "canvas_coord_row = np.zeros((tot_img, img_rows*img_cols));\n",
        "canvas_coord_col = np.zeros((tot_img, img_rows*img_cols));\n",
        "canvas_coord_cnt = np.zeros((tot_img));"
      ],
      "execution_count": 0,
      "outputs": []
    },
    {
      "cell_type": "code",
      "metadata": {
        "id": "dFDk6ylavFzr",
        "colab_type": "code",
        "colab": {}
      },
      "source": [
        "# Generate pictures\n",
        "\n",
        "line_rows   = img_rows/30\n",
        "offset_rows = img_rows/30\n",
        "line_cols   = img_cols/40\n",
        "offset_cols = img_cols/40\n",
        "\n",
        "for k in range(num_img+num_tst):\n",
        "\n",
        "  # Top horiz. line\n",
        "  line1_rows = np.int16(line_rows * (1 + np.random.random_sample()/5) )\n",
        "  line1_irow = np.int16(offset_rows * (1 + np.random.random_sample()/5) )\n",
        "  line1_icol = np.int16(offset_cols * (1 + np.random.random_sample()/5) ) \n",
        "  line1_cols = np.int16(img_cols - line_cols * (1 + np.random.random_sample()/5) - 2 * offset_cols) \n",
        "\n",
        "  for i in range(line1_rows):\n",
        "    for j in range (line1_cols):\n",
        "      canvas[k, line1_irow+i, line1_icol+j] = 1;\n",
        "      \n",
        "  # Top rectangle\n",
        "  line_sq_rows = np.int16(line_rows * 4 * (1 + np.random.random_sample()/6) )\n",
        "  line_sq_cols = np.int16(line_cols * 6 * (1 + np.random.random_sample()/8) )\n",
        "  line_sq_icol = np.int16((line1_cols-line_sq_cols)/2) + line1_icol\n",
        "  line_sq_irow = np.int16(line1_irow + line_rows - 1);\n",
        "\n",
        "  for i in range(line_sq_rows):\n",
        "    for j in range (line_sq_cols):\n",
        "      canvas[k, line_sq_irow+i, line_sq_icol+j] = 1;\n",
        "\n",
        "  # Bottom horiz. line\n",
        "  line2_rows = np.int16(line_rows * (1 + np.random.random_sample()/5) )\n",
        "  line2_irow = np.int16(img_rows - line_rows * (1 + np.random.random_sample()/5) - 2 * offset_rows)\n",
        "  line2_icol = line1_icol\n",
        "  line2_cols = line1_cols\n",
        "  #print(line2_irow, line2_icol)\n",
        "\n",
        "  for i in range(line2_rows):\n",
        "    for j in range (line2_cols):\n",
        "      canvas[k, line2_irow+i, line2_icol+j] = 1;\n",
        "\n",
        "  # Left line\n",
        "  line3_cols = np.int16(line_cols * (1 + np.random.random_sample()/5) )\n",
        "  line3_rows = np.int16(img_rows * 1/2 + line_rows * np.random.random_sample() )\n",
        "  line3_irow = line1_irow\n",
        "  line3_icol = line1_icol\n",
        "\n",
        "  for i in range(line3_rows):\n",
        "    for j in range (line3_cols):\n",
        "      canvas[k, line3_irow+i, line3_icol+j] = 1;\n",
        "\n",
        "  # Right line\n",
        "  line4_cols = np.int16(line_cols * (1 + np.random.random_sample()/5) )\n",
        "  line4_rows = np.int16(img_rows * 1/2 + line_rows * np.random.random_sample() )\n",
        "  line4_irow = line1_irow\n",
        "  line4_icol = line2_icol+line2_cols-line4_cols\n",
        "\n",
        "  for i in range(line4_rows):\n",
        "    for j in range (line4_cols):\n",
        "      canvas[k, line4_irow+i, line4_icol+j] = 1;  \n",
        "      \n",
        "  # Left triangle\n",
        "  ltr_rows = np.int16(img_rows * 1/5 + line_rows * np.random.random_sample() )\n",
        "  ltr_irow = line3_irow + line3_rows - 1\n",
        "  ltr_icol = line3_icol\n",
        "  ltr_cols = ltr_icol + line3_cols\n",
        "  \n",
        "  for i in range(ltr_rows):\n",
        "    j = ltr_icol\n",
        "    while (j < ltr_cols):\n",
        "      canvas[k, ltr_irow+i, j] = 1;\n",
        "      j = j + 1;\n",
        "    ltr_cols = ltr_cols + line_cols / 10\n",
        " \n",
        "  # Rigth triangle\n",
        "  rtr_rows = np.int16(img_rows * 1/5 + line_rows * np.random.random_sample() )\n",
        "  rtr_irow = line4_irow + line4_rows - 1\n",
        "  rtr_icol = line4_icol\n",
        "  rtr_cols = rtr_icol + line4_cols \n",
        "  \n",
        "  for i in range(rtr_rows):\n",
        "    j = rtr_cols\n",
        "    while (j > rtr_icol):\n",
        "      canvas[k, ltr_irow+i, j] = 1;\n",
        "      j = j - 1;\n",
        "    rtr_icol = rtr_icol - line_cols / 10\n",
        "  \n",
        "  \n",
        "  # Bottom left rectangle\n",
        "  lsq_rows = np.int16(line_rows * 2.5 * (1 + np.random.random_sample()/5) )\n",
        "  lsq_cols = np.int16(line_rows * 3.3 * (1 + np.random.random_sample()/5) )\n",
        "  lsq_irow = line2_irow\n",
        "  lsq_icol = line2_icol\n",
        "  \n",
        "  i = lsq_irow\n",
        "  j = lsq_rows\n",
        "  while (j > 0):\n",
        "    for m in range (lsq_cols):\n",
        "      canvas[k, i-j, lsq_icol + m] = 1;\n",
        "    j = j-1;\n",
        "\n",
        "  # Bottom right rectangle\n",
        "  rsq_rows = np.int16(line_rows * 1.8 * (1 + np.random.random_sample()/5) )\n",
        "  rsq_cols = np.int16(line_rows * 4.2 * (1 + np.random.random_sample()/5) )\n",
        "  rsq_irow = line2_irow\n",
        "  rsq_icol = line2_icol+line2_cols-rsq_cols\n",
        "  \n",
        "  i = rsq_irow\n",
        "  j = rsq_rows\n",
        "  while (j > 0):\n",
        "    for m in range (rsq_cols):\n",
        "      canvas[k, i-j, rsq_icol + m] = 1;\n",
        "    j = j-1;\n",
        "     \n",
        "  # Add faults\n",
        "  decision = np.random.random_sample()\n",
        "  if decision < 0.1:\n",
        "    \n",
        "    # Add excess rectangle\n",
        "    found = 0;\n",
        "    canvas_lbl[k] = 1;\n",
        "    while (found == 0):\n",
        "      row = np.int16(img_rows * np.random.random_sample())\n",
        "      col = np.int16(img_cols * np.random.random_sample())\n",
        "      \n",
        "      if (canvas[k, row, col] == 1):\n",
        "        found = 1\n",
        "        row = row - 2\n",
        "        col = col - 4\n",
        "        #print (k, row, col)\n",
        "        fault_rows = np.int16(line_rows * 2.2 * (1 + np.random.random_sample()/5) )\n",
        "        fault_cols = np.int16(line_cols * 2.2 * (1 + np.random.random_sample()/5) )\n",
        "        for i in range(fault_rows):\n",
        "          for j in range (fault_cols):\n",
        "            if ((row+i) < img_rows) and ((col+j) < img_cols):\n",
        "              canvas[k, row+i, col+j] = 1;\n",
        "  elif decision < 0.2:\n",
        "    \n",
        "    # Add defect rectangle\n",
        "    found = 0;\n",
        "    canvas_lbl[k] = 2;\n",
        "    while (found == 0):\n",
        "      row = np.int16(img_rows * np.random.random_sample())\n",
        "      col = np.int16(img_cols * np.random.random_sample())\n",
        "      \n",
        "      if (canvas[k, row, col] == 1):\n",
        "        found = 1\n",
        "        #print (k, row, col)\n",
        "        row = row - 2\n",
        "        col = col - 4\n",
        "        fault_rows = np.int16(line_rows * 2.2 * (1 + np.random.random_sample()/5) )\n",
        "        fault_cols = np.int16(line_cols * 2.2 * (1 + np.random.random_sample()/5) )\n",
        "        for i in range(fault_rows):\n",
        "          for j in range (fault_cols):\n",
        "            if ((row+i) < img_rows) and ((col+j) < img_cols):\n",
        "              canvas[k, row+i, col+j] = 0;\n",
        "  else:\n",
        "    canvas_lbl[k] = 0;\n",
        "  \n",
        "      \n"
      ],
      "execution_count": 0,
      "outputs": []
    },
    {
      "cell_type": "code",
      "metadata": {
        "id": "1GoeSPAFMdwf",
        "colab_type": "code",
        "colab": {}
      },
      "source": [
        "# Model\n",
        "from keras import models\n",
        "from keras import layers\n",
        "network = models.Sequential()\n",
        "network.add(layers.Conv2D(32, (3,3), activation='relu', input_shape=(img_rows, img_cols, 1)))\n",
        "network.add(layers.MaxPooling2D((2,2)))\n",
        "network.add(layers.Conv2D(32, (3,3), activation='relu'))\n",
        "network.add(layers.MaxPooling2D((2,2)))\n",
        "network.add(layers.Flatten())\n",
        "network.add(layers.Dense(64, activation='relu'))\n",
        "network.add(layers.Dense(3,  activation='softmax'))\n",
        "network.compile(optimizer='rmsprop', \n",
        "              loss='categorical_crossentropy',\n",
        "              metrics=['accuracy'])"
      ],
      "execution_count": 0,
      "outputs": []
    },
    {
      "cell_type": "code",
      "metadata": {
        "id": "5Rm1eHt4daPi",
        "colab_type": "code",
        "outputId": "45b3fee8-c827-4483-b166-b24ab0c3226e",
        "colab": {
          "base_uri": "https://localhost:8080/",
          "height": 50
        }
      },
      "source": [
        "print(canvas_lbl[5010:5040])"
      ],
      "execution_count": 101,
      "outputs": [
        {
          "output_type": "stream",
          "text": [
            "[0. 1. 0. 0. 0. 2. 0. 0. 0. 0. 2. 0. 0. 0. 0. 2. 0. 0. 0. 0. 0. 0. 0. 2.\n",
            " 0. 0. 0. 2. 0. 0.]\n"
          ],
          "name": "stdout"
        }
      ]
    },
    {
      "cell_type": "code",
      "metadata": {
        "id": "_9t_f6KsMw7g",
        "colab_type": "code",
        "outputId": "9eb5394e-b5af-4bac-e9fe-f3b106452040",
        "colab": {
          "base_uri": "https://localhost:8080/",
          "height": 302
        }
      },
      "source": [
        "# Fit\n",
        "from keras.utils import to_categorical\n",
        "canvas_images = canvas[:num_img].reshape((num_img, img_rows, img_cols, 1))\n",
        "categ_labels = to_categorical(canvas_lbl[:num_img])\n",
        "canvas_tst   = canvas[-num_tst:].reshape((num_tst, img_rows, img_cols, 1))\n",
        "lbl_tst = to_categorical(canvas_lbl[-num_tst:])\n",
        "history = network.fit(canvas_images, categ_labels, epochs=8, batch_size=32, validation_data=(canvas_tst, lbl_tst))\n"
      ],
      "execution_count": 94,
      "outputs": [
        {
          "output_type": "stream",
          "text": [
            "Train on 5000 samples, validate on 500 samples\n",
            "Epoch 1/8\n",
            "5000/5000 [==============================] - 116s 23ms/step - loss: 0.0923 - acc: 0.9770 - val_loss: 0.1154 - val_acc: 0.9700\n",
            "Epoch 2/8\n",
            "5000/5000 [==============================] - 117s 23ms/step - loss: 0.0848 - acc: 0.9780 - val_loss: 0.1033 - val_acc: 0.9740\n",
            "Epoch 3/8\n",
            "5000/5000 [==============================] - 117s 23ms/step - loss: 0.0789 - acc: 0.9808 - val_loss: 0.0993 - val_acc: 0.9740\n",
            "Epoch 4/8\n",
            "5000/5000 [==============================] - 117s 23ms/step - loss: 0.0947 - acc: 0.9782 - val_loss: 0.1005 - val_acc: 0.9760\n",
            "Epoch 5/8\n",
            "5000/5000 [==============================] - 116s 23ms/step - loss: 0.0766 - acc: 0.9810 - val_loss: 0.1856 - val_acc: 0.9840\n",
            "Epoch 6/8\n",
            "5000/5000 [==============================] - 116s 23ms/step - loss: 0.0724 - acc: 0.9822 - val_loss: 0.1140 - val_acc: 0.9740\n",
            "Epoch 7/8\n",
            "5000/5000 [==============================] - 116s 23ms/step - loss: 0.0655 - acc: 0.9840 - val_loss: 0.0863 - val_acc: 0.9800\n",
            "Epoch 8/8\n",
            "5000/5000 [==============================] - 117s 23ms/step - loss: 0.3971 - acc: 0.9644 - val_loss: 0.1084 - val_acc: 0.9780\n"
          ],
          "name": "stdout"
        }
      ]
    },
    {
      "cell_type": "code",
      "metadata": {
        "id": "-puMoSBAhcq-",
        "colab_type": "code",
        "outputId": "3cd73afb-0815-4277-a90d-4a4bd898a33d",
        "colab": {
          "base_uri": "https://localhost:8080/",
          "height": 34
        }
      },
      "source": [
        "network.predict(canvas[5011].reshape((1, img_rows, img_cols, 1)))"
      ],
      "execution_count": 103,
      "outputs": [
        {
          "output_type": "execute_result",
          "data": {
            "text/plain": [
              "array([[1.358606e-04, 9.998435e-01, 2.059558e-05]], dtype=float32)"
            ]
          },
          "metadata": {
            "tags": []
          },
          "execution_count": 103
        }
      ]
    },
    {
      "cell_type": "code",
      "metadata": {
        "id": "r7_cc5E0h5D6",
        "colab_type": "code",
        "outputId": "5cba3b9c-1abc-41bd-8602-133c82764c28",
        "colab": {
          "base_uri": "https://localhost:8080/",
          "height": 254
        }
      },
      "source": [
        "plt.imshow(canvas[5011], cmap=plt.cm.binary)"
      ],
      "execution_count": 102,
      "outputs": [
        {
          "output_type": "execute_result",
          "data": {
            "text/plain": [
              "<matplotlib.image.AxesImage at 0x7f850b241cf8>"
            ]
          },
          "metadata": {
            "tags": []
          },
          "execution_count": 102
        },
        {
          "output_type": "display_data",
          "data": {
            "image/png": "[encoded data removed]",
            "text/plain": [
              "<Figure size 432x288 with 1 Axes>"
            ]
          },
          "metadata": {
            "tags": []
          }
        }
      ]
    },
    {
      "cell_type": "code",
      "metadata": {
        "id": "Lj2DfqvdiDNK",
        "colab_type": "code",
        "outputId": "a7d21cb6-addc-40fa-c155-2b4dca06452a",
        "colab": {
          "base_uri": "https://localhost:8080/",
          "height": 34
        }
      },
      "source": [
        "print(canvas_lbl[num_img+200:num_img+220])"
      ],
      "execution_count": 0,
      "outputs": [
        {
          "output_type": "stream",
          "text": [
            "[0. 0. 0. 0. 0. 0. 1. 0. 0. 0. 0. 0. 0. 0. 0. 0. 0. 0. 0. 0.]\n"
          ],
          "name": "stdout"
        }
      ]
    }
  ]
}