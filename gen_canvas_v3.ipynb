{
  "nbformat": 4,
  "nbformat_minor": 0,
  "metadata": {
    "colab": {
      "name": "gen_canvas",
      "version": "0.3.2",
      "provenance": [],
      "collapsed_sections": [],
      "include_colab_link": true
    },
    "kernelspec": {
      "name": "python3",
      "display_name": "Python 3"
    }
  },
  "cells": [
    {
      "cell_type": "markdown",
      "metadata": {
        "id": "view-in-github",
        "colab_type": "text"
      },
      "source": [
        "<a href=\"https://colab.research.google.com/github/chclau/MIF_Gen/blob/master/gen_canvas_v3.ipynb\" target=\"_parent\"><img src=\"https://colab.research.google.com/assets/colab-badge.svg\" alt=\"Open In Colab\"/></a>"
      ]
    },
    {
      "cell_type": "code",
      "metadata": {
        "id": "DmF80RHzt6u6",
        "colab_type": "code",
        "colab": {}
      },
      "source": [
        "# Initialization\n",
        "import numpy as np\n",
        "import matplotlib.pyplot as plt\n",
        "import cv2\n",
        "from scipy.ndimage import gaussian_filter"
      ],
      "execution_count": 0,
      "outputs": []
    },
    {
      "cell_type": "code",
      "metadata": {
        "id": "TWwT12Bgulk9",
        "colab_type": "code",
        "colab": {}
      },
      "source": [
        "# Init canvas\n",
        "scale    = 2;\n",
        "num_img  = 10000;\n",
        "num_val  = np.int16(num_img/5);\n",
        "num_tst  = num_val;\n",
        "img_cols = np.int16(384/scale);\n",
        "img_rows = np.int16(136/scale);\n",
        "fg = 70;     # foreground gray level\n",
        "bg = 140;    # background gray level\n",
        "tot_img   = num_img + num_val + num_tst;\n",
        "canvas    = np.full((tot_img, img_rows, img_cols), bg);\n",
        "canvas_f  = np.zeros((tot_img, img_rows, img_cols));\n",
        "canvas_lbl = np.zeros((tot_img));\n",
        "canvas_contour = np.zeros((tot_img, img_rows, img_cols));"
      ],
      "execution_count": 0,
      "outputs": []
    },
    {
      "cell_type": "code",
      "metadata": {
        "id": "dFDk6ylavFzr",
        "colab_type": "code",
        "colab": {}
      },
      "source": [
        "# Generate pictures\n",
        "\n",
        "line_rows   = img_rows/30\n",
        "offset_rows = img_rows/30\n",
        "line_cols   = img_cols/40\n",
        "offset_cols = img_cols/40\n",
        "\n",
        "for k in range(tot_img):\n",
        "\n",
        "  # Top horiz. line\n",
        "  line1_rows = np.int16(line_rows * (1 + np.random.random_sample()/5) )\n",
        "  line1_irow = np.int16(offset_rows * (1 + np.random.random_sample()/5) )\n",
        "  line1_icol = np.int16(offset_cols * (1 + np.random.random_sample()/5) ) \n",
        "  line1_cols = np.int16(img_cols - line_cols * (1 + np.random.random_sample()/5) - 2 * offset_cols) \n",
        "\n",
        "  for i in range(line1_rows):\n",
        "    for j in range (line1_cols):\n",
        "      canvas[k, line1_irow+i, line1_icol+j] = fg;\n",
        "      \n",
        "  # Top rectangle\n",
        "  line_sq_rows = np.int16(line_rows * 4 * (1 + np.random.random_sample()/6) )\n",
        "  line_sq_cols = np.int16(line_cols * 6 * (1 + np.random.random_sample()/8) )\n",
        "  line_sq_icol = np.int16((line1_cols-line_sq_cols)/2) + line1_icol\n",
        "  line_sq_irow = np.int16(line1_irow + line_rows - 1);\n",
        "\n",
        "  for i in range(line_sq_rows):\n",
        "    for j in range (line_sq_cols):\n",
        "      canvas[k, line_sq_irow+i, line_sq_icol+j] = fg;\n",
        "\n",
        "  # Bottom horiz. line\n",
        "  line2_rows = np.int16(line_rows * (1 + np.random.random_sample()/5) )\n",
        "  line2_irow = np.int16(img_rows - line_rows * (1 + np.random.random_sample()/5) - 2 * offset_rows)\n",
        "  line2_icol = line1_icol\n",
        "  line2_cols = line1_cols\n",
        "  #print(line2_irow, line2_icol)\n",
        "\n",
        "  for i in range(line2_rows):\n",
        "    for j in range (line2_cols):\n",
        "      canvas[k, line2_irow+i, line2_icol+j] = fg;\n",
        "\n",
        "  # Left line\n",
        "  line3_cols = np.int16(line_cols * (1 + np.random.random_sample()/5) )\n",
        "  line3_rows = np.int16(img_rows * 1/2 + line_rows * np.random.random_sample() )\n",
        "  line3_irow = line1_irow\n",
        "  line3_icol = line1_icol\n",
        "\n",
        "  for i in range(line3_rows):\n",
        "    for j in range (line3_cols):\n",
        "      canvas[k, line3_irow+i, line3_icol+j] = fg;\n",
        "\n",
        "  # Right line\n",
        "  line4_cols = np.int16(line_cols * (1 + np.random.random_sample()/5) )\n",
        "  line4_rows = np.int16(img_rows * 1/2 + line_rows * np.random.random_sample() )\n",
        "  line4_irow = line1_irow\n",
        "  line4_icol = line2_icol+line2_cols-line4_cols\n",
        "\n",
        "  for i in range(line4_rows):\n",
        "    for j in range (line4_cols):\n",
        "      canvas[k, line4_irow+i, line4_icol+j] = fg;  \n",
        "      \n",
        "  # Left triangle\n",
        "  ltr_rows = np.int16(img_rows * 1/5 + line_rows * np.random.random_sample() )\n",
        "  ltr_irow = line3_irow + line3_rows - 1\n",
        "  ltr_icol = line3_icol\n",
        "  ltr_cols = ltr_icol + line3_cols\n",
        "  \n",
        "  for i in range(ltr_rows):\n",
        "    j = ltr_icol\n",
        "    while (j < ltr_cols):\n",
        "      canvas[k, ltr_irow+i, j] = fg;\n",
        "      j = j + 1;\n",
        "    ltr_cols = ltr_cols + line_cols / 10\n",
        " \n",
        "  # Rigth triangle\n",
        "  rtr_rows = np.int16(img_rows * 1/5 + line_rows * np.random.random_sample() )\n",
        "  rtr_irow = line4_irow + line4_rows - 1\n",
        "  rtr_icol = line4_icol\n",
        "  rtr_cols = rtr_icol + line4_cols \n",
        "  \n",
        "  for i in range(rtr_rows):\n",
        "    j = rtr_cols\n",
        "    while (j > rtr_icol):\n",
        "      canvas[k, rtr_irow+i, j] = fg;\n",
        "      j = j - 1;\n",
        "    rtr_icol = rtr_icol - line_cols / 10\n",
        "  \n",
        "  \n",
        "  # Bottom left rectangle\n",
        "  lsq_rows = np.int16(line_rows * 2.5 * (1 + np.random.random_sample()/5) )\n",
        "  lsq_cols = np.int16(line_rows * 3.3 * (1 + np.random.random_sample()/5) )\n",
        "  lsq_irow = line2_irow\n",
        "  lsq_icol = line2_icol\n",
        "  \n",
        "  i = lsq_irow\n",
        "  j = lsq_rows\n",
        "  while (j > 0):\n",
        "    for m in range (lsq_cols):\n",
        "      canvas[k, i-j, lsq_icol + m] = fg;\n",
        "    j = j-1;\n",
        "\n",
        "  # Bottom right rectangle\n",
        "  rsq_rows = np.int16(line_rows * 1.8 * (1 + np.random.random_sample()/5) )\n",
        "  rsq_cols = np.int16(line_rows * 4.2 * (1 + np.random.random_sample()/5) )\n",
        "  rsq_irow = line2_irow\n",
        "  rsq_icol = line2_icol+line2_cols-rsq_cols\n",
        "  \n",
        "  i = rsq_irow\n",
        "  j = rsq_rows\n",
        "  while (j > 0):\n",
        "    for m in range (rsq_cols):\n",
        "      canvas[k, i-j, rsq_icol + m] = fg;\n",
        "    j = j-1;\n",
        "    \n",
        "  # Calculate contour to add faults\n",
        "  im = np.array(canvas[k], dtype = np.uint8)\n",
        "  canvas_contour[k] = cv2.Canny(im, fg, bg)\n",
        "  "
      ],
      "execution_count": 0,
      "outputs": []
    },
    {
      "cell_type": "code",
      "metadata": {
        "id": "IxgkC4w_Qtes",
        "colab_type": "code",
        "colab": {}
      },
      "source": [
        "# Add faults\n",
        "for k in range(tot_img):\n",
        "  decision = np.random.random_sample()\n",
        "  if decision < 0.33:\n",
        "    \n",
        "    # Add excess rectangle\n",
        "    found = 0;\n",
        "    canvas_lbl[k] = 1;\n",
        "    while (found == 0):\n",
        "      row = np.int16(img_rows * np.random.random_sample())\n",
        "      col = np.int16(img_cols * np.random.random_sample())\n",
        "      \n",
        "      if (canvas_contour[k, row, col] !=0):\n",
        "        found = 1\n",
        "        row = row - 2\n",
        "        col = col - 4\n",
        "        fault_rows = np.int16(line_rows * 2.2 * (1 + np.random.random_sample()/5) )\n",
        "        fault_cols = np.int16(line_cols * 2.2 * (1 + np.random.random_sample()/5) )\n",
        "        for i in range(fault_rows):\n",
        "          for j in range (fault_cols):\n",
        "            if ((row+i) < img_rows) and ((col+j) < img_cols):\n",
        "              canvas[k, row+i, col+j] = fg;\n",
        "  elif decision < 0.66:\n",
        "    \n",
        "    # Add defect rectangle\n",
        "    found = 0;\n",
        "    canvas_lbl[k] = 2;\n",
        "    while (found == 0):\n",
        "      row = np.int16(img_rows * np.random.random_sample())\n",
        "      col = np.int16(img_cols * np.random.random_sample())\n",
        "      \n",
        "      if (canvas_contour[k, row, col] !=0):\n",
        "        found = 1\n",
        "        row = row - 2\n",
        "        col = col - 4\n",
        "        fault_rows = np.int16(line_rows * 2.2 * (1 + np.random.random_sample()/5) )\n",
        "        fault_cols = np.int16(line_cols * 2.2 * (1 + np.random.random_sample()/5) )\n",
        "        for i in range(fault_rows):\n",
        "          for j in range (fault_cols):\n",
        "            if ((row+i) < img_rows) and ((col+j) < img_cols):\n",
        "              canvas[k, row+i, col+j] = bg;\n",
        "  else:\n",
        "    canvas_lbl[k] = 0;\n",
        "  \n",
        "      \n"
      ],
      "execution_count": 0,
      "outputs": []
    },
    {
      "cell_type": "code",
      "metadata": {
        "id": "Xsqs6fF4Xgd-",
        "colab_type": "code",
        "colab": {}
      },
      "source": [
        "# Filter pictures\n",
        "for k in range(tot_img):\n",
        "  canvas_f[k] = gaussian_filter(canvas[k], sigma=0.7)\n"
      ],
      "execution_count": 0,
      "outputs": []
    },
    {
      "cell_type": "code",
      "metadata": {
        "id": "1GoeSPAFMdwf",
        "colab_type": "code",
        "colab": {
          "base_uri": "https://localhost:8080/",
          "height": 104
        },
        "outputId": "607eb076-1275-44c2-d8df-5839a95d3e3d"
      },
      "source": [
        "# Model\n",
        "from keras import models\n",
        "from keras import layers\n",
        "network = models.Sequential()\n",
        "network.add(layers.Conv2D(32, (3,3), activation='relu', input_shape=(img_rows, img_cols, 1)))\n",
        "network.add(layers.MaxPooling2D((2,2)))\n",
        "network.add(layers.Conv2D(32, (3,3), activation='relu'))\n",
        "network.add(layers.MaxPooling2D((2,2)))\n",
        "network.add(layers.Flatten())\n",
        "network.add(layers.Dense(64, activation='relu'))\n",
        "network.add(layers.Dense(3,  activation='softmax'))\n",
        "network.compile(optimizer='adam', \n",
        "              loss='categorical_crossentropy',\n",
        "              metrics=['accuracy'])"
      ],
      "execution_count": 8,
      "outputs": [
        {
          "output_type": "stream",
          "text": [
            "Using TensorFlow backend.\n"
          ],
          "name": "stderr"
        },
        {
          "output_type": "stream",
          "text": [
            "WARNING:tensorflow:From /usr/local/lib/python3.6/dist-packages/tensorflow/python/framework/op_def_library.py:263: colocate_with (from tensorflow.python.framework.ops) is deprecated and will be removed in a future version.\n",
            "Instructions for updating:\n",
            "Colocations handled automatically by placer.\n"
          ],
          "name": "stdout"
        }
      ]
    },
    {
      "cell_type": "code",
      "metadata": {
        "id": "_9t_f6KsMw7g",
        "colab_type": "code",
        "outputId": "dd33f7e1-743f-47d7-d7d9-4034aa59a470",
        "colab": {
          "base_uri": "https://localhost:8080/",
          "height": 642
        }
      },
      "source": [
        "# Fit\n",
        "from keras.utils import to_categorical\n",
        "canvas_images = canvas_f[:num_img].reshape((num_img, img_rows, img_cols, 1))\n",
        "old_max = np.amax(canvas)\n",
        "old_min = np.amin(canvas)\n",
        "canvas_images = (canvas_images.astype('float32') - old_min) * 2 / (old_max - old_min) - 1\n",
        "categ_labels = to_categorical(canvas_lbl[:num_img])\n",
        "canvas_val   = canvas_val[num_img:num_img+num_val].reshape((num_val, img_rows, img_cols, 1))\n",
        "canvas_val = (canvas_val.astype('float32') - old_min) * 2 / (old_max - old_min) - 1\n",
        "lbl_val = to_categorical(canvas_lbl[num_img:num_img+num_val])\n",
        "history = network.fit(canvas_images, categ_labels, epochs=12, batch_size=84, validation_data=(canvas_val, lbl_val))\n"
      ],
      "execution_count": 11,
      "outputs": [
        {
          "output_type": "stream",
          "text": [
            "Train on 10000 samples, validate on 1000 samples\n",
            "Epoch 1/12\n",
            "10000/10000 [==============================] - 206s 21ms/step - loss: 3.2865 - acc: 0.7961 - val_loss: 2.8529 - val_acc: 0.8230\n",
            "Epoch 2/12\n",
            "10000/10000 [==============================] - 206s 21ms/step - loss: 3.2865 - acc: 0.7961 - val_loss: 2.8529 - val_acc: 0.8230\n",
            "Epoch 3/12\n",
            "10000/10000 [==============================] - 207s 21ms/step - loss: 3.2865 - acc: 0.7961 - val_loss: 2.8529 - val_acc: 0.8230\n",
            "Epoch 4/12\n",
            "10000/10000 [==============================] - 207s 21ms/step - loss: 3.2865 - acc: 0.7961 - val_loss: 2.8529 - val_acc: 0.8230\n",
            "Epoch 5/12\n",
            "10000/10000 [==============================] - 207s 21ms/step - loss: 3.2865 - acc: 0.7961 - val_loss: 2.8529 - val_acc: 0.8230\n",
            "Epoch 6/12\n",
            "10000/10000 [==============================] - 207s 21ms/step - loss: 3.2865 - acc: 0.7961 - val_loss: 2.8529 - val_acc: 0.8230\n",
            "Epoch 7/12\n",
            "10000/10000 [==============================] - 210s 21ms/step - loss: 3.2865 - acc: 0.7961 - val_loss: 2.8529 - val_acc: 0.8230\n",
            "Epoch 8/12\n",
            " 2496/10000 [======>.......................] - ETA: 2:33 - loss: 3.4290 - acc: 0.7873"
          ],
          "name": "stdout"
        },
        {
          "output_type": "error",
          "ename": "KeyboardInterrupt",
          "evalue": "ignored",
          "traceback": [
            "\u001b[0;31m---------------------------------------------------------------------------\u001b[0m",
            "\u001b[0;31mKeyboardInterrupt\u001b[0m                         Traceback (most recent call last)",
            "\u001b[0;32m<ipython-input-11-073a44dec9a7>\u001b[0m in \u001b[0;36m<module>\u001b[0;34m()\u001b[0m\n\u001b[1;32m      8\u001b[0m \u001b[0mcanvas_tst\u001b[0m \u001b[0;34m=\u001b[0m \u001b[0;34m(\u001b[0m\u001b[0mcanvas_tst\u001b[0m\u001b[0;34m.\u001b[0m\u001b[0mastype\u001b[0m\u001b[0;34m(\u001b[0m\u001b[0;34m'float32'\u001b[0m\u001b[0;34m)\u001b[0m \u001b[0;34m-\u001b[0m \u001b[0mold_min\u001b[0m\u001b[0;34m)\u001b[0m \u001b[0;34m*\u001b[0m \u001b[0;36m2\u001b[0m \u001b[0;34m/\u001b[0m \u001b[0;34m(\u001b[0m\u001b[0mold_max\u001b[0m \u001b[0;34m-\u001b[0m \u001b[0mold_min\u001b[0m\u001b[0;34m)\u001b[0m \u001b[0;34m-\u001b[0m \u001b[0;36m1\u001b[0m\u001b[0;34m\u001b[0m\u001b[0;34m\u001b[0m\u001b[0m\n\u001b[1;32m      9\u001b[0m \u001b[0mlbl_tst\u001b[0m \u001b[0;34m=\u001b[0m \u001b[0mto_categorical\u001b[0m\u001b[0;34m(\u001b[0m\u001b[0mcanvas_lbl\u001b[0m\u001b[0;34m[\u001b[0m\u001b[0;34m-\u001b[0m\u001b[0mnum_tst\u001b[0m\u001b[0;34m:\u001b[0m\u001b[0;34m]\u001b[0m\u001b[0;34m)\u001b[0m\u001b[0;34m\u001b[0m\u001b[0;34m\u001b[0m\u001b[0m\n\u001b[0;32m---> 10\u001b[0;31m \u001b[0mhistory\u001b[0m \u001b[0;34m=\u001b[0m \u001b[0mnetwork\u001b[0m\u001b[0;34m.\u001b[0m\u001b[0mfit\u001b[0m\u001b[0;34m(\u001b[0m\u001b[0mcanvas_images\u001b[0m\u001b[0;34m,\u001b[0m \u001b[0mcateg_labels\u001b[0m\u001b[0;34m,\u001b[0m \u001b[0mepochs\u001b[0m\u001b[0;34m=\u001b[0m\u001b[0;36m12\u001b[0m\u001b[0;34m,\u001b[0m \u001b[0mbatch_size\u001b[0m\u001b[0;34m=\u001b[0m\u001b[0;36m48\u001b[0m\u001b[0;34m,\u001b[0m \u001b[0mvalidation_data\u001b[0m\u001b[0;34m=\u001b[0m\u001b[0;34m(\u001b[0m\u001b[0mcanvas_tst\u001b[0m\u001b[0;34m,\u001b[0m \u001b[0mlbl_tst\u001b[0m\u001b[0;34m)\u001b[0m\u001b[0;34m)\u001b[0m\u001b[0;34m\u001b[0m\u001b[0;34m\u001b[0m\u001b[0m\n\u001b[0m",
            "\u001b[0;32m/usr/local/lib/python3.6/dist-packages/keras/engine/training.py\u001b[0m in \u001b[0;36mfit\u001b[0;34m(self, x, y, batch_size, epochs, verbose, callbacks, validation_split, validation_data, shuffle, class_weight, sample_weight, initial_epoch, steps_per_epoch, validation_steps, **kwargs)\u001b[0m\n\u001b[1;32m   1037\u001b[0m                                         \u001b[0minitial_epoch\u001b[0m\u001b[0;34m=\u001b[0m\u001b[0minitial_epoch\u001b[0m\u001b[0;34m,\u001b[0m\u001b[0;34m\u001b[0m\u001b[0;34m\u001b[0m\u001b[0m\n\u001b[1;32m   1038\u001b[0m                                         \u001b[0msteps_per_epoch\u001b[0m\u001b[0;34m=\u001b[0m\u001b[0msteps_per_epoch\u001b[0m\u001b[0;34m,\u001b[0m\u001b[0;34m\u001b[0m\u001b[0;34m\u001b[0m\u001b[0m\n\u001b[0;32m-> 1039\u001b[0;31m                                         validation_steps=validation_steps)\n\u001b[0m\u001b[1;32m   1040\u001b[0m \u001b[0;34m\u001b[0m\u001b[0m\n\u001b[1;32m   1041\u001b[0m     def evaluate(self, x=None, y=None,\n",
            "\u001b[0;32m/usr/local/lib/python3.6/dist-packages/keras/engine/training_arrays.py\u001b[0m in \u001b[0;36mfit_loop\u001b[0;34m(model, f, ins, out_labels, batch_size, epochs, verbose, callbacks, val_f, val_ins, shuffle, callback_metrics, initial_epoch, steps_per_epoch, validation_steps)\u001b[0m\n\u001b[1;32m    197\u001b[0m                     \u001b[0mins_batch\u001b[0m\u001b[0;34m[\u001b[0m\u001b[0mi\u001b[0m\u001b[0;34m]\u001b[0m \u001b[0;34m=\u001b[0m \u001b[0mins_batch\u001b[0m\u001b[0;34m[\u001b[0m\u001b[0mi\u001b[0m\u001b[0;34m]\u001b[0m\u001b[0;34m.\u001b[0m\u001b[0mtoarray\u001b[0m\u001b[0;34m(\u001b[0m\u001b[0;34m)\u001b[0m\u001b[0;34m\u001b[0m\u001b[0;34m\u001b[0m\u001b[0m\n\u001b[1;32m    198\u001b[0m \u001b[0;34m\u001b[0m\u001b[0m\n\u001b[0;32m--> 199\u001b[0;31m                 \u001b[0mouts\u001b[0m \u001b[0;34m=\u001b[0m \u001b[0mf\u001b[0m\u001b[0;34m(\u001b[0m\u001b[0mins_batch\u001b[0m\u001b[0;34m)\u001b[0m\u001b[0;34m\u001b[0m\u001b[0;34m\u001b[0m\u001b[0m\n\u001b[0m\u001b[1;32m    200\u001b[0m                 \u001b[0mouts\u001b[0m \u001b[0;34m=\u001b[0m \u001b[0mto_list\u001b[0m\u001b[0;34m(\u001b[0m\u001b[0mouts\u001b[0m\u001b[0;34m)\u001b[0m\u001b[0;34m\u001b[0m\u001b[0;34m\u001b[0m\u001b[0m\n\u001b[1;32m    201\u001b[0m                 \u001b[0;32mfor\u001b[0m \u001b[0ml\u001b[0m\u001b[0;34m,\u001b[0m \u001b[0mo\u001b[0m \u001b[0;32min\u001b[0m \u001b[0mzip\u001b[0m\u001b[0;34m(\u001b[0m\u001b[0mout_labels\u001b[0m\u001b[0;34m,\u001b[0m \u001b[0mouts\u001b[0m\u001b[0;34m)\u001b[0m\u001b[0;34m:\u001b[0m\u001b[0;34m\u001b[0m\u001b[0;34m\u001b[0m\u001b[0m\n",
            "\u001b[0;32m/usr/local/lib/python3.6/dist-packages/keras/backend/tensorflow_backend.py\u001b[0m in \u001b[0;36m__call__\u001b[0;34m(self, inputs)\u001b[0m\n\u001b[1;32m   2713\u001b[0m                 \u001b[0;32mreturn\u001b[0m \u001b[0mself\u001b[0m\u001b[0;34m.\u001b[0m\u001b[0m_legacy_call\u001b[0m\u001b[0;34m(\u001b[0m\u001b[0minputs\u001b[0m\u001b[0;34m)\u001b[0m\u001b[0;34m\u001b[0m\u001b[0;34m\u001b[0m\u001b[0m\n\u001b[1;32m   2714\u001b[0m \u001b[0;34m\u001b[0m\u001b[0m\n\u001b[0;32m-> 2715\u001b[0;31m             \u001b[0;32mreturn\u001b[0m \u001b[0mself\u001b[0m\u001b[0;34m.\u001b[0m\u001b[0m_call\u001b[0m\u001b[0;34m(\u001b[0m\u001b[0minputs\u001b[0m\u001b[0;34m)\u001b[0m\u001b[0;34m\u001b[0m\u001b[0;34m\u001b[0m\u001b[0m\n\u001b[0m\u001b[1;32m   2716\u001b[0m         \u001b[0;32melse\u001b[0m\u001b[0;34m:\u001b[0m\u001b[0;34m\u001b[0m\u001b[0;34m\u001b[0m\u001b[0m\n\u001b[1;32m   2717\u001b[0m             \u001b[0;32mif\u001b[0m \u001b[0mpy_any\u001b[0m\u001b[0;34m(\u001b[0m\u001b[0mis_tensor\u001b[0m\u001b[0;34m(\u001b[0m\u001b[0mx\u001b[0m\u001b[0;34m)\u001b[0m \u001b[0;32mfor\u001b[0m \u001b[0mx\u001b[0m \u001b[0;32min\u001b[0m \u001b[0minputs\u001b[0m\u001b[0;34m)\u001b[0m\u001b[0;34m:\u001b[0m\u001b[0;34m\u001b[0m\u001b[0;34m\u001b[0m\u001b[0m\n",
            "\u001b[0;32m/usr/local/lib/python3.6/dist-packages/keras/backend/tensorflow_backend.py\u001b[0m in \u001b[0;36m_call\u001b[0;34m(self, inputs)\u001b[0m\n\u001b[1;32m   2673\u001b[0m             \u001b[0mfetched\u001b[0m \u001b[0;34m=\u001b[0m \u001b[0mself\u001b[0m\u001b[0;34m.\u001b[0m\u001b[0m_callable_fn\u001b[0m\u001b[0;34m(\u001b[0m\u001b[0;34m*\u001b[0m\u001b[0marray_vals\u001b[0m\u001b[0;34m,\u001b[0m \u001b[0mrun_metadata\u001b[0m\u001b[0;34m=\u001b[0m\u001b[0mself\u001b[0m\u001b[0;34m.\u001b[0m\u001b[0mrun_metadata\u001b[0m\u001b[0;34m)\u001b[0m\u001b[0;34m\u001b[0m\u001b[0;34m\u001b[0m\u001b[0m\n\u001b[1;32m   2674\u001b[0m         \u001b[0;32melse\u001b[0m\u001b[0;34m:\u001b[0m\u001b[0;34m\u001b[0m\u001b[0;34m\u001b[0m\u001b[0m\n\u001b[0;32m-> 2675\u001b[0;31m             \u001b[0mfetched\u001b[0m \u001b[0;34m=\u001b[0m \u001b[0mself\u001b[0m\u001b[0;34m.\u001b[0m\u001b[0m_callable_fn\u001b[0m\u001b[0;34m(\u001b[0m\u001b[0;34m*\u001b[0m\u001b[0marray_vals\u001b[0m\u001b[0;34m)\u001b[0m\u001b[0;34m\u001b[0m\u001b[0;34m\u001b[0m\u001b[0m\n\u001b[0m\u001b[1;32m   2676\u001b[0m         \u001b[0;32mreturn\u001b[0m \u001b[0mfetched\u001b[0m\u001b[0;34m[\u001b[0m\u001b[0;34m:\u001b[0m\u001b[0mlen\u001b[0m\u001b[0;34m(\u001b[0m\u001b[0mself\u001b[0m\u001b[0;34m.\u001b[0m\u001b[0moutputs\u001b[0m\u001b[0;34m)\u001b[0m\u001b[0;34m]\u001b[0m\u001b[0;34m\u001b[0m\u001b[0;34m\u001b[0m\u001b[0m\n\u001b[1;32m   2677\u001b[0m \u001b[0;34m\u001b[0m\u001b[0m\n",
            "\u001b[0;32m/usr/local/lib/python3.6/dist-packages/tensorflow/python/client/session.py\u001b[0m in \u001b[0;36m__call__\u001b[0;34m(self, *args, **kwargs)\u001b[0m\n\u001b[1;32m   1437\u001b[0m           ret = tf_session.TF_SessionRunCallable(\n\u001b[1;32m   1438\u001b[0m               \u001b[0mself\u001b[0m\u001b[0;34m.\u001b[0m\u001b[0m_session\u001b[0m\u001b[0;34m.\u001b[0m\u001b[0m_session\u001b[0m\u001b[0;34m,\u001b[0m \u001b[0mself\u001b[0m\u001b[0;34m.\u001b[0m\u001b[0m_handle\u001b[0m\u001b[0;34m,\u001b[0m \u001b[0margs\u001b[0m\u001b[0;34m,\u001b[0m \u001b[0mstatus\u001b[0m\u001b[0;34m,\u001b[0m\u001b[0;34m\u001b[0m\u001b[0;34m\u001b[0m\u001b[0m\n\u001b[0;32m-> 1439\u001b[0;31m               run_metadata_ptr)\n\u001b[0m\u001b[1;32m   1440\u001b[0m         \u001b[0;32mif\u001b[0m \u001b[0mrun_metadata\u001b[0m\u001b[0;34m:\u001b[0m\u001b[0;34m\u001b[0m\u001b[0;34m\u001b[0m\u001b[0m\n\u001b[1;32m   1441\u001b[0m           \u001b[0mproto_data\u001b[0m \u001b[0;34m=\u001b[0m \u001b[0mtf_session\u001b[0m\u001b[0;34m.\u001b[0m\u001b[0mTF_GetBuffer\u001b[0m\u001b[0;34m(\u001b[0m\u001b[0mrun_metadata_ptr\u001b[0m\u001b[0;34m)\u001b[0m\u001b[0;34m\u001b[0m\u001b[0;34m\u001b[0m\u001b[0m\n",
            "\u001b[0;31mKeyboardInterrupt\u001b[0m: "
          ]
        }
      ]
    },
    {
      "cell_type": "code",
      "metadata": {
        "id": "yHWv9xXAmXrR",
        "colab_type": "code",
        "colab": {}
      },
      "source": [
        "# Evaluate results with test array\n",
        "canvas_tst = canvas_f[-num_tst:].reshape((num_tst, img_rows, img_cols, 1))\n",
        "canvas_tst = (canvas_tst.astype('float32') - old_min) * 2 / (old_max - old_min) - 1\n",
        "categ_tst = to_categorical(canvas_lbl[-num_tst:])\n",
        "network.evaluate(canvas_tst, categ_tst)"
      ],
      "execution_count": 0,
      "outputs": []
    },
    {
      "cell_type": "code",
      "metadata": {
        "id": "-puMoSBAhcq-",
        "colab_type": "code",
        "outputId": "8cbd669c-9760-4d29-ead2-c91314c850f7",
        "colab": {
          "base_uri": "https://localhost:8080/",
          "height": 34
        }
      },
      "source": [
        "# Predict single result\n",
        "pred = (canvas[5149].astype('float32') - old_min) * 2 / (old_max - old_min) - 1\n",
        "\n",
        "network.predict(pred.reshape((1, img_rows, img_cols, 1)))"
      ],
      "execution_count": 12,
      "outputs": [
        {
          "output_type": "execute_result",
          "data": {
            "text/plain": [
              "array([[1.0000000e+00, 3.7633494e-12, 1.0966128e-11]], dtype=float32)"
            ]
          },
          "metadata": {
            "tags": []
          },
          "execution_count": 12
        }
      ]
    }
  ]
}