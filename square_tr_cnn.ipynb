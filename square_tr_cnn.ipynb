{
  "nbformat": 4,
  "nbformat_minor": 0,
  "metadata": {
    "colab": {
      "name": "Untitled0.ipynb",
      "version": "0.3.2",
      "provenance": [],
      "include_colab_link": true
    },
    "kernelspec": {
      "name": "python3",
      "display_name": "Python 3"
    }
  },
  "cells": [
    {
      "cell_type": "markdown",
      "metadata": {
        "id": "view-in-github",
        "colab_type": "text"
      },
      "source": [
        "<a href=\"https://colab.research.google.com/github/chclau/MIF_Gen/blob/master/square_tr_cnn.ipynb\" target=\"_parent\"><img src=\"https://colab.research.google.com/assets/colab-badge.svg\" alt=\"Open In Colab\"/></a>"
      ]
    },
    {
      "cell_type": "code",
      "metadata": {
        "id": "aDb1GHBxwLL7",
        "colab_type": "code",
        "outputId": "9c553f79-1ddb-4dff-b9d2-dcb0dd9a94db",
        "colab": {
          "base_uri": "https://localhost:8080/",
          "height": 286
        }
      },
      "source": [
        "import math\n",
        "import numpy as np\n",
        "import matplotlib.pyplot as plt\n",
        "\n",
        "\n",
        "# DML CNN section\n",
        "from __future__ import absolute_import, division, print_function, unicode_literals\n",
        "\n",
        "# Import TensorFlow and TensorFlow Datasets\n",
        "import tensorflow as tf\n",
        "import tensorflow_datasets as tfds\n",
        "tf.logging.set_verbosity(tf.logging.ERROR)\n",
        "\n",
        "# Generate squares and triangles training database\n",
        "img_siz = 12;\n",
        "sq   = np.zeros((img_siz,img_siz,500));\n",
        "tr   = np.zeros((img_siz,img_siz,500));\n",
        "\n",
        "for k in range(100):\n",
        "  x0 = np.int8(3 * np.random.random_sample())+1;   #random origin x coord\n",
        "  y0 = np.int8(3 * np.random.random_sample())+1;   #random origin y coord\n",
        "  w = np.int8(img_siz/3 * np.random.random_sample()+img_siz/3);   #random size\n",
        "\n",
        "  # square\n",
        "  for i in range(w):\n",
        "    for j in range(w):\n",
        "      sq[y0+i, x0+j, k] = 1;\n",
        "  \n",
        "  # triangle      \n",
        "  for i in range(w):\n",
        "    for j in range(i):\n",
        "      tr[y0+i, x0+j, k] = 1;\n",
        "     \n",
        "# Generate squares and triangles validation database\n",
        "      \n",
        "      \n",
        "      \n",
        "#plt.imshow(sq[:,:,11], cmap=plt.cm.binary)\n",
        "#plt.imshow(tr[:,:,11], cmap=plt.cm.binary)"
      ],
      "execution_count": 0,
      "outputs": [
        {
          "output_type": "execute_result",
          "data": {
            "text/plain": [
              "<matplotlib.image.AxesImage at 0x7f983f6fecc0>"
            ]
          },
          "metadata": {
            "tags": []
          },
          "execution_count": 81
        },
        {
          "output_type": "display_data",
          "data": {
            "image/png": "[encoded data removed]",
            "text/plain": [
              "<Figure size 432x288 with 1 Axes>"
            ]
          },
          "metadata": {
            "tags": []
          }
        }
      ]
    }
  ]
}