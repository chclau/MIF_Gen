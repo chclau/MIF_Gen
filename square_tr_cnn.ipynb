{
  "nbformat": 4,
  "nbformat_minor": 0,
  "metadata": {
    "colab": {
      "name": "Untitled0.ipynb",
      "version": "0.3.2",
      "provenance": [],
      "include_colab_link": true
    },
    "kernelspec": {
      "name": "python3",
      "display_name": "Python 3"
    }
  },
  "cells": [
    {
      "cell_type": "markdown",
      "metadata": {
        "id": "view-in-github",
        "colab_type": "text"
      },
      "source": [
        "<a href=\"https://colab.research.google.com/github/chclau/MIF_Gen/blob/master/square_tr_cnn.ipynb\" target=\"_parent\"><img src=\"https://colab.research.google.com/assets/colab-badge.svg\" alt=\"Open In Colab\"/></a>"
      ]
    },
    {
      "cell_type": "code",
      "metadata": {
        "id": "aDb1GHBxwLL7",
        "colab_type": "code",
        "outputId": "b4487831-28b5-4dd9-d3a9-59d73f8b1a46",
        "colab": {
          "base_uri": "https://localhost:8080/",
          "height": 231
        }
      },
      "source": [
        "import math\n",
        "import numpy as np\n",
        "import matplotlib.pyplot as plt\n",
        "from random import shuffle\n",
        "\n",
        "\n",
        "# DML CNN section\n",
        "from __future__ import absolute_import, division, print_function, unicode_literals\n",
        "\n",
        "# Import TensorFlow and TensorFlow Datasets\n",
        "import tensorflow as tf\n",
        "import tensorflow_datasets as tfds\n",
        "tf.logging.set_verbosity(tf.logging.ERROR)\n",
        "\n",
        "# Generate squares and triangles training database\n",
        "img_size = 12;\n",
        "train_size = 500;\n",
        "test_size  = np.int8(train_size/5);\n",
        "sq_train   = np.zeros((img_size, img_size, train_size));\n",
        "tr_train   = np.zeros((img_size, img_size, train_size));\n",
        "sq_test    = np.zeros((img_size, img_size, train_size));\n",
        "tr_test    = np.zeros((img_size, img_size, train_size));\n",
        "\n",
        "for k in range(train_size):\n",
        "  x0 = np.int8(3 * np.random.random_sample())+1;   # random origin x coord\n",
        "  y0 = np.int8(3 * np.random.random_sample())+1;   # random origin y coord\n",
        "  w = np.int8(img_size/3 * np.random.random_sample()+img_size/3);   # random size\n",
        "\n",
        "  # square\n",
        "  for i in range(w):\n",
        "    for j in range(w):\n",
        "      sq_train[y0+i, x0+j, k] = 1;\n",
        "  \n",
        "  # triangle      \n",
        "  for i in range(w):\n",
        "    for j in range(i):\n",
        "      tr_train[y0+i, x0+j, k] = 1;\n",
        "  \n",
        "     \n",
        "# Generate squares and triangles validation database\n",
        "for k in range(test_size):\n",
        "  x0 = np.int8(3 * np.random.random_sample()+img_size/4);   # random origin x coord for test images\n",
        "  y0 = np.int8(3 * np.random.random_sample()+img_size/4);   # random origin y coord for test images\n",
        "  w = np.int8(img_size/3 * np.random.random_sample()+img_size/3);   # random size\n",
        "\n",
        "  # square\n",
        "  for i in range(w):\n",
        "    for j in range(w):\n",
        "      sq_test[y0+i, x0+j, k] = 1;\n",
        "  \n",
        "  # triangle      \n",
        "  for i in range(w):\n",
        "    for j in range(i):\n",
        "      tr_test[y0+i, x0+j, k] = 1;\n",
        "      \n",
        "# Generate images database\n",
        "train_images = [];\n",
        "for i in range(train_size):\n",
        "  train_images.append([sq_train[:,:,i], np.array([1,0])]);\n",
        "  train_images.append([tr_train[:,:,i], np.array([0,1])]);\n",
        "  shuffle(train_images);\n",
        "test_images = [];\n",
        "for i in range(test_size):\n",
        "  test_images.append([sq_test[:,:,i], np.array([1,0])]);\n",
        "  test_images.append([tr_test[:,:,i], np.array([0,1])]);\n",
        "  shuffle(test_images);\n",
        "\n",
        "      \n",
        "      \n",
        "#plt.imshow(sq[:,:,11], cmap=plt.cm.binary)\n",
        "#plt.imshow(tr[:,:,11], cmap=plt.cm.binary)"
      ],
      "execution_count": 13,
      "outputs": [
        {
          "output_type": "error",
          "ename": "NameError",
          "evalue": "ignored",
          "traceback": [
            "\u001b[0;31m---------------------------------------------------------------------------\u001b[0m",
            "\u001b[0;31mNameError\u001b[0m                                 Traceback (most recent call last)",
            "\u001b[0;32m<ipython-input-13-8cd36019f0e3>\u001b[0m in \u001b[0;36m<module>\u001b[0;34m()\u001b[0m\n\u001b[1;32m     58\u001b[0m   \u001b[0mtrain_images\u001b[0m\u001b[0;34m.\u001b[0m\u001b[0mappend\u001b[0m\u001b[0;34m(\u001b[0m\u001b[0;34m[\u001b[0m\u001b[0msq_train\u001b[0m\u001b[0;34m[\u001b[0m\u001b[0;34m:\u001b[0m\u001b[0;34m,\u001b[0m\u001b[0;34m:\u001b[0m\u001b[0;34m,\u001b[0m\u001b[0mi\u001b[0m\u001b[0;34m]\u001b[0m\u001b[0;34m,\u001b[0m \u001b[0mnp\u001b[0m\u001b[0;34m.\u001b[0m\u001b[0marray\u001b[0m\u001b[0;34m(\u001b[0m\u001b[0;34m[\u001b[0m\u001b[0;36m1\u001b[0m\u001b[0;34m,\u001b[0m\u001b[0;36m0\u001b[0m\u001b[0;34m]\u001b[0m\u001b[0;34m)\u001b[0m\u001b[0;34m]\u001b[0m\u001b[0;34m)\u001b[0m\u001b[0;34m;\u001b[0m\u001b[0;34m\u001b[0m\u001b[0;34m\u001b[0m\u001b[0m\n\u001b[1;32m     59\u001b[0m   \u001b[0mtrain_images\u001b[0m\u001b[0;34m.\u001b[0m\u001b[0mappend\u001b[0m\u001b[0;34m(\u001b[0m\u001b[0;34m[\u001b[0m\u001b[0mtr_train\u001b[0m\u001b[0;34m[\u001b[0m\u001b[0;34m:\u001b[0m\u001b[0;34m,\u001b[0m\u001b[0;34m:\u001b[0m\u001b[0;34m,\u001b[0m\u001b[0mi\u001b[0m\u001b[0;34m]\u001b[0m\u001b[0;34m,\u001b[0m \u001b[0mnp\u001b[0m\u001b[0;34m.\u001b[0m\u001b[0marray\u001b[0m\u001b[0;34m(\u001b[0m\u001b[0;34m[\u001b[0m\u001b[0;36m0\u001b[0m\u001b[0;34m,\u001b[0m\u001b[0;36m1\u001b[0m\u001b[0;34m]\u001b[0m\u001b[0;34m)\u001b[0m\u001b[0;34m]\u001b[0m\u001b[0;34m)\u001b[0m\u001b[0;34m;\u001b[0m\u001b[0;34m\u001b[0m\u001b[0;34m\u001b[0m\u001b[0m\n\u001b[0;32m---> 60\u001b[0;31m   \u001b[0mshuffle\u001b[0m\u001b[0;34m(\u001b[0m\u001b[0mtrain_images\u001b[0m\u001b[0;34m)\u001b[0m\u001b[0;34m;\u001b[0m\u001b[0;34m\u001b[0m\u001b[0;34m\u001b[0m\u001b[0m\n\u001b[0m\u001b[1;32m     61\u001b[0m \u001b[0mtest_images\u001b[0m \u001b[0;34m=\u001b[0m \u001b[0;34m[\u001b[0m\u001b[0;34m]\u001b[0m\u001b[0;34m;\u001b[0m\u001b[0;34m\u001b[0m\u001b[0;34m\u001b[0m\u001b[0m\n\u001b[1;32m     62\u001b[0m \u001b[0;32mfor\u001b[0m \u001b[0mi\u001b[0m \u001b[0;32min\u001b[0m \u001b[0mrange\u001b[0m\u001b[0;34m(\u001b[0m\u001b[0mtest_size\u001b[0m\u001b[0;34m)\u001b[0m\u001b[0;34m:\u001b[0m\u001b[0;34m\u001b[0m\u001b[0;34m\u001b[0m\u001b[0m\n",
            "\u001b[0;31mNameError\u001b[0m: name 'shuffle' is not defined"
          ]
        }
      ]
    }
  ]
}