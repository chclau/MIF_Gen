{
  "nbformat": 4,
  "nbformat_minor": 0,
  "metadata": {
    "colab": {
      "name": "Untitled0.ipynb",
      "version": "0.3.2",
      "provenance": [],
      "include_colab_link": true
    },
    "kernelspec": {
      "name": "python3",
      "display_name": "Python 3"
    }
  },
  "cells": [
    {
      "cell_type": "markdown",
      "metadata": {
        "id": "view-in-github",
        "colab_type": "text"
      },
      "source": [
        "<a href=\"https://colab.research.google.com/github/chclau/MIF_Gen/blob/master/square_circle_gen.ipynb\" target=\"_parent\"><img src=\"https://colab.research.google.com/assets/colab-badge.svg\" alt=\"Open In Colab\"/></a>"
      ]
    },
    {
      "cell_type": "code",
      "metadata": {
        "id": "aDb1GHBxwLL7",
        "colab_type": "code",
        "colab": {
          "base_uri": "https://localhost:8080/",
          "height": 286
        },
        "outputId": "52dced35-f9c7-46dc-f94f-3a06fca2a64a"
      },
      "source": [
        "import math\n",
        "import numpy as np\n",
        "import matplotlib.pyplot as plt\n",
        "\n",
        "sq   = np.zeros((12,12,100));\n",
        "tr   = np.zeros((12,12,100));\n",
        "rect = np.zeros((12,12,100));\n",
        "\n",
        "for k in range(100):\n",
        "  x0 = np.int8(3 * np.random.random_sample())+1;   #random origin x coord\n",
        "  y0 = np.int8(3 * np.random.random_sample())+1;   #random origin y coord\n",
        "  ws = np.int8(4 * np.random.random_sample())+4;   #random square size\n",
        "  wc = np.int8(4 * np.random.random_sample())+4;   #random circle diameter\n",
        "\n",
        "  # square\n",
        "  for i in range(ws):\n",
        "    for j in range(ws):\n",
        "      sq[y0+i, x0+j, k] = 1;\n",
        "  \n",
        "  # circle\n",
        "  r = wc/2;\n",
        "  r2 = r**2;\n",
        "  xc = x0+r;\n",
        "  yc = y0+r;\n",
        "  for i in range(wc):\n",
        "    for j in range(wc):\n",
        "      if (i**2+k**2)<=rc\n",
        "      \n",
        "plt.imshow(sq[:,:,11], cmap=plt.cm.binary)"
      ],
      "execution_count": 6,
      "outputs": [
        {
          "output_type": "execute_result",
          "data": {
            "text/plain": [
              "<matplotlib.image.AxesImage at 0x7f9840f976d8>"
            ]
          },
          "metadata": {
            "tags": []
          },
          "execution_count": 6
        },
        {
          "output_type": "display_data",
          "data": {
            "image/png": "[encoded data removed]",
            "text/plain": [
              "<Figure size 432x288 with 1 Axes>"
            ]
          },
          "metadata": {
            "tags": []
          }
        }
      ]
    }
  ]
}