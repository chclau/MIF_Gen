{
  "nbformat": 4,
  "nbformat_minor": 0,
  "metadata": {
    "colab": {
      "name": "Untitled0.ipynb",
      "version": "0.3.2",
      "provenance": [],
      "include_colab_link": true
    },
    "kernelspec": {
      "name": "python3",
      "display_name": "Python 3"
    }
  },
  "cells": [
    {
      "cell_type": "markdown",
      "metadata": {
        "id": "view-in-github",
        "colab_type": "text"
      },
      "source": [
        "<a href=\"https://colab.research.google.com/github/chclau/MIF_Gen/blob/master/square_tr_cnn_v3_works.ipynb\" target=\"_parent\"><img src=\"https://colab.research.google.com/assets/colab-badge.svg\" alt=\"Open In Colab\"/></a>"
      ]
    },
    {
      "cell_type": "code",
      "metadata": {
        "id": "aDb1GHBxwLL7",
        "colab_type": "code",
        "outputId": "a178d67d-a497-4632-baa7-3d8a8e156b06",
        "colab": {
          "base_uri": "https://localhost:8080/",
          "height": 129
        }
      },
      "source": [
        "import math\n",
        "import numpy as np\n",
        "import matplotlib.pyplot as plt\n",
        "from random import shuffle\n",
        "\n",
        "\n",
        "# DML CNN section\n",
        "from __future__ import absolute_import, division, print_function, unicode_literals\n",
        "\n",
        "# Import TensorFlow and TensorFlow Datasets\n",
        "import tensorflow as tf\n",
        "import tensorflow_datasets as tfds\n",
        "tf.logging.set_verbosity(tf.logging.ERROR)\n",
        "\n",
        "# -----------------------------------------------------------------------------------------------------------------------------------\n",
        "# Generate squares and triangles training database\n",
        "img_size = 12;\n",
        "train_size = 600;\n",
        "test_size  = np.int8(train_size/5);\n",
        "sq_train   = np.zeros((img_size, img_size, train_size));\n",
        "tr_train   = np.zeros((img_size, img_size, train_size));\n",
        "sq_test    = np.zeros((img_size, img_size, train_size));\n",
        "tr_test    = np.zeros((img_size, img_size, train_size));\n",
        "\n",
        "for k in range(train_size):\n",
        "  x0 = np.int8(3 * np.random.random_sample())+1;   # random origin x coord\n",
        "  y0 = np.int8(3 * np.random.random_sample())+1;   # random origin y coord\n",
        "  w = np.int8(img_size/3 * np.random.random_sample()+img_size/3);   # random size\n",
        "\n",
        "  # square\n",
        "  for i in range(w):\n",
        "    for j in range(w):\n",
        "      sq_train[y0+i, x0+j, k] = 1;\n",
        "  \n",
        "  # triangle      \n",
        "  for i in range(w):\n",
        "    for j in range(i):\n",
        "      tr_train[y0+i, x0+j, k] = 1;\n",
        "  \n",
        "#plt.imshow(sq[:,:,11], cmap=plt.cm.binary)\n",
        "#plt.imshow(tr[:,:,11], cmap=plt.cm.binary)\n",
        "\n",
        "# Generate squares and triangles validation database\n",
        "for k in range(test_size):\n",
        "  x0 = np.int8(3 * np.random.random_sample()+img_size/4);   # random origin x coord for test images\n",
        "  y0 = np.int8(3 * np.random.random_sample()+img_size/4);   # random origin y coord for test images\n",
        "  w = np.int8(img_size/3 * np.random.random_sample()+img_size/3);   # random size\n",
        "\n",
        "  # square\n",
        "  for i in range(w):\n",
        "    for j in range(w):\n",
        "      sq_test[y0+i, x0+j, k] = 1;\n",
        "  \n",
        "  # triangle      \n",
        "  for i in range(w):\n",
        "    for j in range(i):\n",
        "      tr_test[y0+i, x0+j, k] = 1;\n",
        "      \n",
        "# Generate images database\n",
        "train_images = [];\n",
        "for i in range(train_size):\n",
        "  train_images.append([sq_train[:,:,i], 0]);\n",
        "  train_images.append([tr_train[:,:,i], 1]);\n",
        "  shuffle(train_images);\n",
        "\n",
        "test_images = [];\n",
        "for i in range(test_size):\n",
        "  test_images.append([sq_test[:,:,i], 0]);\n",
        "  test_images.append([tr_test[:,:,i], 1]);\n",
        "  shuffle(test_images);\n",
        "  \n",
        "\n",
        "# -----------------------------------------------------------------------------------------------------------------------------------\n",
        "# Model generate\n",
        "model = tf.keras.Sequential([\n",
        "    tf.keras.layers.Conv2D(32, (3,3), padding='same', activation=tf.nn.relu,\n",
        "                           input_shape=(img_size, img_size,1)),\n",
        "    tf.keras.layers.MaxPooling2D((2, 2), strides=2),\n",
        "    tf.keras.layers.Conv2D(64, (3,3), padding='same', activation=tf.nn.relu),\n",
        "    tf.keras.layers.MaxPooling2D((2, 2), strides=2),\n",
        "    tf.keras.layers.Flatten(),\n",
        "    tf.keras.layers.Dropout(0.5),\n",
        "    tf.keras.layers.Dense(128, activation=tf.nn.relu),\n",
        "    tf.keras.layers.Dropout(0.2),\n",
        "    tf.keras.layers.Dense(2,   activation=tf.nn.softmax)\n",
        "])\n",
        "\n",
        "# Model compile\n",
        "model.compile(optimizer='adam', \n",
        "              loss='sparse_categorical_crossentropy',\n",
        "              metrics=['accuracy'])\n",
        "\n",
        "tr_img_data = np.array([i[0] for i in train_images]).reshape(-1,img_size,img_size,1)\n",
        "tr_lbl_data = np.array([i[1] for i in train_images])\n",
        "tst_img_data = np.array([i[0] for i in test_images]).reshape(-1,img_size,img_size,1)\n",
        "tst_lbl_data = np.array([i[1] for i in test_images])\n",
        "\n",
        "# Model fit\n",
        "model.fit(tr_img_data, tr_lbl_data, epochs=30, batch_size=128)\n",
        "model.summary();\n",
        "test_loss, test_accuracy = model.evaluate(tst_img_data, tst_lbl_data)\n"
      ],
      "execution_count": 12,
      "outputs": [
        {
          "output_type": "error",
          "ename": "IndentationError",
          "evalue": "ignored",
          "traceback": [
            "\u001b[0;36m  File \u001b[0;32m\"<ipython-input-12-7651add93d7c>\"\u001b[0;36m, line \u001b[0;32m105\u001b[0m\n\u001b[0;31m    x0 = 0;\u001b[0m\n\u001b[0m    ^\u001b[0m\n\u001b[0;31mIndentationError\u001b[0m\u001b[0;31m:\u001b[0m unexpected indent\n"
          ]
        }
      ]
    },
    {
      "cell_type": "code",
      "metadata": {
        "id": "RNgNQ_Q6J3uR",
        "colab_type": "code",
        "colab": {
          "base_uri": "https://localhost:8080/",
          "height": 34
        },
        "outputId": "f8725a03-995c-43f1-fa21-2b3782e39f6d"
      },
      "source": [
        "# -----------------------------------------------------------------------------------------------------------------------------------\n",
        "# Model predict\n",
        "x0 = 1; \n",
        "y0 = 1; \n",
        "w  = 5;\n",
        "pred   = np.zeros((img_size, img_size, 1));\n",
        "for i in range(w):\n",
        "  for j in range(w):\n",
        "    pred[y0+i, x0+j, 0] = 1;\n",
        "\n",
        "pred_img_data = pred.reshape(-1,img_size,img_size,1)\n",
        "model.predict(pred_img_data)"
      ],
      "execution_count": 31,
      "outputs": [
        {
          "output_type": "execute_result",
          "data": {
            "text/plain": [
              "array([[1.0000000e+00, 4.8972963e-09]], dtype=float32)"
            ]
          },
          "metadata": {
            "tags": []
          },
          "execution_count": 31
        }
      ]
    }
  ]
}