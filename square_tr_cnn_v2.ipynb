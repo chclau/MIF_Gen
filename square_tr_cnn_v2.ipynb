{
  "nbformat": 4,
  "nbformat_minor": 0,
  "metadata": {
    "colab": {
      "name": "Untitled0.ipynb",
      "version": "0.3.2",
      "provenance": [],
      "include_colab_link": true
    },
    "kernelspec": {
      "name": "python3",
      "display_name": "Python 3"
    }
  },
  "cells": [
    {
      "cell_type": "markdown",
      "metadata": {
        "id": "view-in-github",
        "colab_type": "text"
      },
      "source": [
        "<a href=\"https://colab.research.google.com/github/chclau/MIF_Gen/blob/master/square_tr_cnn_v2.ipynb\" target=\"_parent\"><img src=\"https://colab.research.google.com/assets/colab-badge.svg\" alt=\"Open In Colab\"/></a>"
      ]
    },
    {
      "cell_type": "code",
      "metadata": {
        "id": "aDb1GHBxwLL7",
        "colab_type": "code",
        "colab": {}
      },
      "source": [
        "import math\n",
        "import numpy as np\n",
        "import matplotlib.pyplot as plt\n",
        "from random import shuffle\n",
        "\n",
        "\n",
        "# DML CNN section\n",
        "from __future__ import absolute_import, division, print_function, unicode_literals\n",
        "\n",
        "# Import TensorFlow and TensorFlow Datasets\n",
        "import tensorflow as tf\n",
        "import tensorflow_datasets as tfds\n",
        "tf.logging.set_verbosity(tf.logging.ERROR)\n",
        "\n",
        "# Generate squares and triangles training database\n",
        "img_size = 12;\n",
        "train_size = 500;\n",
        "test_size  = np.int8(train_size/5);\n",
        "sq_train   = np.zeros((img_size, img_size, train_size));\n",
        "tr_train   = np.zeros((img_size, img_size, train_size));\n",
        "sq_test    = np.zeros((img_size, img_size, train_size));\n",
        "tr_test    = np.zeros((img_size, img_size, train_size));\n",
        "\n",
        "for k in range(train_size):\n",
        "  x0 = np.int8(3 * np.random.random_sample())+1;   # random origin x coord\n",
        "  y0 = np.int8(3 * np.random.random_sample())+1;   # random origin y coord\n",
        "  w = np.int8(img_size/3 * np.random.random_sample()+img_size/3);   # random size\n",
        "\n",
        "  # square\n",
        "  for i in range(w):\n",
        "    for j in range(w):\n",
        "      sq_train[y0+i, x0+j, k] = 1;\n",
        "  \n",
        "  # triangle      \n",
        "  for i in range(w):\n",
        "    for j in range(i):\n",
        "      tr_train[y0+i, x0+j, k] = 1;\n",
        "  \n",
        "     \n",
        "# Generate squares and triangles validation database\n",
        "for k in range(test_size):\n",
        "  x0 = np.int8(3 * np.random.random_sample()+img_size/4);   # random origin x coord for test images\n",
        "  y0 = np.int8(3 * np.random.random_sample()+img_size/4);   # random origin y coord for test images\n",
        "  w = np.int8(img_size/3 * np.random.random_sample()+img_size/3);   # random size\n",
        "\n",
        "  # square\n",
        "  for i in range(w):\n",
        "    for j in range(w):\n",
        "      sq_test[y0+i, x0+j, k] = 1;\n",
        "  \n",
        "  # triangle      \n",
        "  for i in range(w):\n",
        "    for j in range(i):\n",
        "      tr_test[y0+i, x0+j, k] = 1;\n",
        "      \n",
        "# Generate images database\n",
        "train_images = [];\n",
        "for i in range(train_size):\n",
        "  train_images.append([sq_train[:,:,i], np.array([1,0])]);\n",
        "  train_images.append([tr_train[:,:,i], np.array([0,1])]);\n",
        "  shuffle(train_images);\n",
        "test_images = [];\n",
        "for i in range(test_size):\n",
        "  test_images.append([sq_test[:,:,i], np.array([1,0])]);\n",
        "  test_images.append([tr_test[:,:,i], np.array([0,1])]);\n",
        "  shuffle(test_images);\n",
        "\n",
        "\n",
        "model = tf.keras.Sequential([\n",
        "    tf.keras.layers.Conv2D(32, (3,3), padding='same', activation=tf.nn.relu,\n",
        "                           input_shape=(img_size, img_size,1)),\n",
        "    tf.keras.layers.MaxPooling2D((2, 2), strides=2),\n",
        "    tf.keras.layers.Conv2D(64, (3,3), padding='same', activation=tf.nn.relu),\n",
        "    tf.keras.layers.MaxPooling2D((2, 2), strides=2),\n",
        "    tf.keras.layers.Flatten(),\n",
        "    tf.keras.layers.Dense(128, activation=tf.nn.relu),\n",
        "    tf.keras.layers.Dense(2,   activation=tf.nn.softmax)\n",
        "])\n",
        "\n",
        "model.compile(optimizer='adam', \n",
        "              loss='sparse_categorical_crossentropy',\n",
        "              metrics=['accuracy'])\n",
        "\n",
        "tr_img_data = np.array([i[0] for i in train_images]).reshape(-1,img_size,img_size,1)\n",
        "tr_lbl_data = np.array([i[1] for i in train_images])\n",
        "\n",
        "model.fit(x=tr_img_data, y=tr_lbl_data, epochs=10, batch_size=64)\n",
        "\n",
        "      \n",
        "#plt.imshow(sq[:,:,11], cmap=plt.cm.binary)\n",
        "#plt.imshow(tr[:,:,11], cmap=plt.cm.binary)"
      ],
      "execution_count": 0,
      "outputs": []
    },
    {
      "cell_type": "code",
      "metadata": {
        "id": "vq-ZdgGrEM2P",
        "colab_type": "code",
        "colab": {
          "base_uri": "https://localhost:8080/",
          "height": 34
        },
        "outputId": "3372c883-f5a7-40a2-d4b2-a4173c552ef5"
      },
      "source": [
        "np.array([1,0]).ndim\n"
      ],
      "execution_count": 11,
      "outputs": [
        {
          "output_type": "execute_result",
          "data": {
            "text/plain": [
              "1"
            ]
          },
          "metadata": {
            "tags": []
          },
          "execution_count": 11
        }
      ]
    },
    {
      "cell_type": "code",
      "metadata": {
        "id": "GX4JTCQfDK2I",
        "colab_type": "code",
        "colab": {}
      },
      "source": [
        ""
      ],
      "execution_count": 0,
      "outputs": []
    }
  ]
}